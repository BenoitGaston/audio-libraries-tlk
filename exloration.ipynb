{
 "cells": [
  {
   "cell_type": "code",
   "execution_count": 1,
   "metadata": {},
   "outputs": [],
   "source": [
    "import pandas as pd\n",
    "import os\n",
    "import xml.etree.ElementTree as ET ## XML parsing\n",
    "from collections import defaultdict\n",
    "import numpy as np\n",
    "from itunesLibrary import library\n",
    "\n",
    "from itunes_lib_scan import LibScan\n",
    "import pickle \n",
    "\n",
    "import dateparser\n",
    "        \n",
    "import music_tag\n",
    "\n",
    "%load_ext autoreload\n",
    "%autoreload 2"
   ]
  },
  {
   "cell_type": "code",
   "execution_count": 2,
   "metadata": {},
   "outputs": [
    {
     "name": "stdout",
     "output_type": "stream",
     "text": [
      "! Be Patient. Parsing your Library-2024-05-28.xml will take a long time (~60mins for a 30k songs lib with a Mac mini M2) !\n",
      "! Be Patient this will take a few seconds !\n",
      "(40052, 67)\n",
      "Index(['Track ID', 'Name', 'Artist', 'Album Artist', 'Album', 'Genre', 'Kind',\n",
      "       'Size', 'Total Time', 'Disc Number', 'Disc Count', 'Track Number',\n",
      "       'Track Count', 'Year', 'Date Modified', 'Date Added', 'Bit Rate',\n",
      "       'Sample Rate', 'Release Date', 'Rating', 'Album Rating',\n",
      "       'Album Rating Computed', 'Normalization', 'Artwork Count', 'Sort Album',\n",
      "       'Sort Artist', 'Sort Name', 'Persistent ID', 'Track Type', 'Purchased',\n",
      "       'Location', 'File Folder Count', 'Library Folder Count', 'BPM', 'Clean',\n",
      "       'Comments', 'Compilation', 'Composer', 'Content Rating', 'Episode',\n",
      "       'Episode Order', 'Explicit', 'File Type', 'Grouping', 'HD', 'Has Video',\n",
      "       'Movement Count', 'Movement Name', 'Movement Number', 'Movie',\n",
      "       'Part Of Gapless Album', 'Play Count', 'Play Date', 'Play Date UTC',\n",
      "       'Podcast', 'Protected', 'Season', 'Series', 'Skip Count', 'Skip Date',\n",
      "       'Sort Album Artist', 'Sort Composer', 'TV Show', 'Unplayed',\n",
      "       'Video Height', 'Video Width', 'Work'],\n",
      "      dtype='object')\n",
      "0\n",
      "*\n",
      "**\n",
      "***\n",
      "****\n",
      "*****\n"
     ]
    },
    {
     "ename": "FileNotFoundError",
     "evalue": "[Errno 2] No such file or directory: \"/Users/antoine/Developer/itunes-lib-data/Library-2024-05-28_Playlists/BS-MRI/ L'Œuvre Pour Piano.m3u8\"",
     "output_type": "error",
     "traceback": [
      "\u001b[0;31m---------------------------------------------------------------------------\u001b[0m",
      "\u001b[0;31mFileNotFoundError\u001b[0m                         Traceback (most recent call last)",
      "Cell \u001b[0;32mIn[2], line 28\u001b[0m\n\u001b[1;32m     14\u001b[0m skip_scanning \u001b[38;5;241m=\u001b[39m \u001b[38;5;28;01mTrue\u001b[39;00m\n\u001b[1;32m     17\u001b[0m LS \u001b[38;5;241m=\u001b[39m LibScan(path_to_library_file\u001b[38;5;241m=\u001b[39mlib_name,\n\u001b[1;32m     18\u001b[0m              path_to_dest_folder \u001b[38;5;241m=\u001b[39m path_to_dest_folder,\n\u001b[1;32m     19\u001b[0m              path_to_music_folder \u001b[38;5;241m=\u001b[39m path_to_music_folder,\n\u001b[0;32m   (...)\u001b[0m\n\u001b[1;32m     24\u001b[0m              force_scan \u001b[38;5;241m=\u001b[39m force_scan,\n\u001b[1;32m     25\u001b[0m              skip_scanning \u001b[38;5;241m=\u001b[39m skip_scanning)\n\u001b[0;32m---> 28\u001b[0m \u001b[43mLS\u001b[49m\u001b[38;5;241;43m.\u001b[39;49m\u001b[43mget_all_playlists_from_a_lib\u001b[49m\u001b[43m(\u001b[49m\u001b[43m)\u001b[49m\n\u001b[1;32m     29\u001b[0m LS\u001b[38;5;241m.\u001b[39mget_all_playlists_with_alternative_path(new_root_folder \u001b[38;5;241m=\u001b[39m new_root_folder)\n\u001b[1;32m     30\u001b[0m LS\u001b[38;5;241m.\u001b[39mget_locations_with_multiple_album()\n",
      "File \u001b[0;32m~/Developer/itunes-lib-tlk/itunes_lib_scan.py:483\u001b[0m, in \u001b[0;36mLibScan.get_all_playlists_from_a_lib\u001b[0;34m(self)\u001b[0m\n\u001b[1;32m    479\u001b[0m \u001b[38;5;28;01mif\u001b[39;00m \u001b[38;5;28mself\u001b[39m\u001b[38;5;241m.\u001b[39mlib_lib \u001b[38;5;241m!=\u001b[39m\u001b[38;5;28;01mNone\u001b[39;00m:\n\u001b[1;32m    480\u001b[0m     \u001b[38;5;28;01mfor\u001b[39;00m playlist \u001b[38;5;129;01min\u001b[39;00m \u001b[38;5;28mself\u001b[39m\u001b[38;5;241m.\u001b[39mlib_lib\u001b[38;5;241m.\u001b[39mplaylists:\n\u001b[1;32m    481\u001b[0m     \u001b[38;5;66;03m#if '*' in  playlist.itunesAttributes['Name']:\u001b[39;00m\n\u001b[1;32m    482\u001b[0m         \u001b[38;5;66;03m#print(\"PL \", playlist.itunesAttributes['Name'])\u001b[39;00m\n\u001b[0;32m--> 483\u001b[0m         \u001b[43mPL_to_m3u8\u001b[49m\u001b[43m(\u001b[49m\u001b[38;5;28;43mself\u001b[39;49m\u001b[38;5;241;43m.\u001b[39;49m\u001b[43mpath_to_playlists_folder\u001b[49m\u001b[43m,\u001b[49m\n\u001b[1;32m    484\u001b[0m \u001b[43m                   \u001b[49m\u001b[43mplaylist\u001b[49m\u001b[43m)\u001b[49m\n",
      "File \u001b[0;32m~/Developer/itunes-lib-tlk/convertion_functions.py:164\u001b[0m, in \u001b[0;36mPL_to_m3u8\u001b[0;34m(path_to_playlists_folder, playlist)\u001b[0m\n\u001b[1;32m    161\u001b[0m \u001b[38;5;28;01mif\u001b[39;00m file_name \u001b[38;5;129;01min\u001b[39;00m os\u001b[38;5;241m.\u001b[39mlistdir():\n\u001b[1;32m    162\u001b[0m     file_name \u001b[38;5;241m=\u001b[39m \u001b[38;5;124mf\u001b[39m\u001b[38;5;124m\"\u001b[39m\u001b[38;5;132;01m{\u001b[39;00mplaylist\u001b[38;5;241m.\u001b[39mitunesAttributes[\u001b[38;5;124m'\u001b[39m\u001b[38;5;124mName\u001b[39m\u001b[38;5;124m'\u001b[39m]\u001b[38;5;132;01m}\u001b[39;00m\u001b[38;5;124m -  \u001b[39m\u001b[38;5;132;01m{\u001b[39;00mplaylist\u001b[38;5;241m.\u001b[39mitunesAttributes[\u001b[38;5;124m'\u001b[39m\u001b[38;5;124mPlaylist ID\u001b[39m\u001b[38;5;124m'\u001b[39m]\u001b[38;5;132;01m}\u001b[39;00m\u001b[38;5;124m.m3u\u001b[39m\u001b[38;5;124m\"\u001b[39m\n\u001b[0;32m--> 164\u001b[0m f\u001b[38;5;241m=\u001b[39m \u001b[38;5;28;43mopen\u001b[39;49m\u001b[43m(\u001b[49m\u001b[43mos\u001b[49m\u001b[38;5;241;43m.\u001b[39;49m\u001b[43mpath\u001b[49m\u001b[38;5;241;43m.\u001b[39;49m\u001b[43mjoin\u001b[49m\u001b[43m(\u001b[49m\u001b[43mpath_to_playlists_folder\u001b[49m\u001b[43m,\u001b[49m\u001b[43mfile_name\u001b[49m\u001b[43m)\u001b[49m\u001b[43m,\u001b[49m\u001b[38;5;124;43m\"\u001b[39;49m\u001b[38;5;124;43mw+\u001b[39;49m\u001b[38;5;124;43m\"\u001b[39;49m\u001b[43m)\u001b[49m\n\u001b[1;32m    165\u001b[0m f\u001b[38;5;241m.\u001b[39mwrite(\u001b[38;5;124mf\u001b[39m\u001b[38;5;124m\"\u001b[39m\u001b[38;5;124m#EXTM3U\u001b[39m\u001b[38;5;130;01m\\r\u001b[39;00m\u001b[38;5;130;01m\\n\u001b[39;00m\u001b[38;5;124m\"\u001b[39m )\n\u001b[1;32m    167\u001b[0m total_time_list \u001b[38;5;241m=\u001b[39m []\n",
      "\u001b[0;31mFileNotFoundError\u001b[0m: [Errno 2] No such file or directory: \"/Users/antoine/Developer/itunes-lib-data/Library-2024-05-28_Playlists/BS-MRI/ L'Œuvre Pour Piano.m3u8\""
     ]
    }
   ],
   "source": [
    "lib_location = os.path.join(os.path.dirname(os.getcwd() ),'itunes-lib-data')\n",
    "lib_name = 'iTunes Music Library-2024-05-24'\n",
    "path_to_dest_folder = lib_location\n",
    "sd_walkman_path = '/Volumes/MasterAudio/NewiTunes/iTunes Media/Music'\n",
    "new_root_folder = '/Volumes/MasterAudio/NewiTunes/iTunes Media/Music'\n",
    "path_to_music_folder = None#'/Volumes/MasterAudio/Audio/Gros iTunes/2024-04-AppleMusic/'\n",
    "\n",
    "\n",
    "create_cover_jpg = False\n",
    "create_album_jpg = False\n",
    "complete_missing_cover_art = False#\n",
    "convert_to_non_prog = False\n",
    "force_scan = False\n",
    "skip_scanning = True\n",
    "\n",
    "\n",
    "LS = LibScan(path_to_library_file=os.path.join(lib_location,lib_name),\n",
    "             path_to_dest_folder = path_to_dest_folder,\n",
    "             path_to_music_folder = path_to_music_folder,\n",
    "             create_cover_jpg = create_cover_jpg,\n",
    "             create_album_jpg = create_album_jpg,\n",
    "             complete_missing_cover_art = complete_missing_cover_art,\n",
    "             convert_to_non_prog = convert_to_non_prog,\n",
    "             force_scan = force_scan,\n",
    "             skip_scanning = skip_scanning)\n",
    "\n",
    "\n",
    "LS.get_all_playlists_from_a_lib()\n",
    "LS.get_all_playlists_with_alternative_path(new_root_folder = new_root_folder)\n",
    "LS.get_locations_with_multiple_album()\n",
    "\n",
    "LS.split_lib_by_features(split_features = ['Grand Genre','CD Scoring',],\n",
    "              maximum_size_feature = 'CD Total Time' ,\n",
    "              maximum_bin_size_in_hours = 40,\n",
    "              maximum_bin_size_in_gb = 30,\n",
    "              mix_genre = False)\n",
    "\n",
    "LS.split_lib_by_location(audio_location = '/Volumes/MasterAudio/Audio/Gros iTunes/',\n",
    "                      level = 0 )\n",
    "\n",
    "LS.split_lib_by_format()\n",
    "LS.split_lib_by_resolution()"
   ]
  },
  {
   "cell_type": "code",
   "execution_count": null,
   "metadata": {},
   "outputs": [],
   "source": []
  },
  {
   "cell_type": "code",
   "execution_count": null,
   "metadata": {},
   "outputs": [],
   "source": []
  }
 ],
 "metadata": {
  "kernelspec": {
   "display_name": "Python 3",
   "language": "python",
   "name": "python3"
  },
  "language_info": {
   "codemirror_mode": {
    "name": "ipython",
    "version": 3
   },
   "file_extension": ".py",
   "mimetype": "text/x-python",
   "name": "python",
   "nbconvert_exporter": "python",
   "pygments_lexer": "ipython3",
   "version": "3.9.6"
  }
 },
 "nbformat": 4,
 "nbformat_minor": 2
}
